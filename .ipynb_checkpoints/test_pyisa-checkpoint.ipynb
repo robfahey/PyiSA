{
 "cells": [
  {
   "cell_type": "code",
   "execution_count": 23,
   "metadata": {},
   "outputs": [],
   "source": [
    "from sklearn.feature_extraction.text import CountVectorizer\n",
    "from sklearn.model_selection import train_test_split\n",
    "from nltk.stem import PorterStemmer\n",
    "import pandas as pd\n",
    "import numpy as np\n",
    "\n",
    "from pyisax import PyiSA"
   ]
  },
  {
   "cell_type": "code",
   "execution_count": 37,
   "metadata": {},
   "outputs": [],
   "source": [
    "def make_dtm_from_texts(texts):\n",
    "    stemmer = PorterStemmer()\n",
    "    analyzer = CountVectorizer(stop_words='english').build_analyzer()\n",
    "\n",
    "    def stemmed(doc):\n",
    "        return (stemmer.stem(w) for w in analyzer(doc))\n",
    "\n",
    "    stem_vectorizer = CountVectorizer(analyzer=stemmed, min_df=0.005)\n",
    "\n",
    "    X = stem_vectorizer.fit_transform(texts)\n",
    "\n",
    "    return X"
   ]
  },
  {
   "cell_type": "code",
   "execution_count": 38,
   "metadata": {},
   "outputs": [
    {
     "name": "stdout",
     "output_type": "stream",
     "text": [
      "Tweet data loaded. Creating term-document matrix (28741 tweets).\n"
     ]
    },
    {
     "data": {
      "text/plain": [
       "<28741x368 sparse matrix of type '<class 'numpy.int64'>'\n",
       "\twith 229735 stored elements in Compressed Sparse Row format>"
      ]
     },
     "execution_count": 38,
     "metadata": {},
     "output_type": "execute_result"
    }
   ],
   "source": [
    "with open('Trump.csv', newline='') as trump_file:\n",
    "    trump_data = pd.read_csv(trump_file)\n",
    "    \n",
    "print('Tweet data loaded. Creating term-document matrix ({} tweets).'.format(len(trump_data['text'])))\n",
    "X = make_dtm_from_texts(trump_data['text'])\n",
    "\n",
    "X"
   ]
  },
  {
   "cell_type": "code",
   "execution_count": 39,
   "metadata": {},
   "outputs": [],
   "source": [
    "X = PyiSA.prep_data(X)\n",
    "y = trump_data['Sentiment']"
   ]
  },
  {
   "cell_type": "code",
   "execution_count": 40,
   "metadata": {},
   "outputs": [],
   "source": [
    "X_train = [X[i] for i in range(0, len(y)) if not pd.isnull(y[i])]\n",
    "X_test = [X[i] for i in range(0, len(y)) if pd.isnull(y[i])]\n",
    "y_train = [y[i] for i in range(0, len(y)) if not pd.isnull(y[i])]"
   ]
  },
  {
   "cell_type": "code",
   "execution_count": 41,
   "metadata": {},
   "outputs": [
    {
     "name": "stdout",
     "output_type": "stream",
     "text": [
      "Commencing iSA run (verbose mode enabled)...\n",
      "Feature Space: 92 features X 28741 documents (482 training, 28259 test)\n",
      "Augmenting dataset using 19 splits...\n",
      "Training iSA for 4 categories.\n",
      "Absolute determinant of (P'*P): 2.6967745280567908e-11\n",
      "Bootstrapping... (1000 passes)\n",
      "[DONE]   Execution time: 3.1970088481903076\n"
     ]
    }
   ],
   "source": [
    "my_isa = PyiSA(verbose=True)\n",
    "my_isa.fit(X_train, X_test, y_train)"
   ]
  },
  {
   "cell_type": "code",
   "execution_count": 42,
   "metadata": {},
   "outputs": [
    {
     "data": {
      "text/html": [
       "<div>\n",
       "<style scoped>\n",
       "    .dataframe tbody tr th:only-of-type {\n",
       "        vertical-align: middle;\n",
       "    }\n",
       "\n",
       "    .dataframe tbody tr th {\n",
       "        vertical-align: top;\n",
       "    }\n",
       "\n",
       "    .dataframe thead th {\n",
       "        text-align: right;\n",
       "    }\n",
       "</style>\n",
       "<table border=\"1\" class=\"dataframe\">\n",
       "  <thead>\n",
       "    <tr style=\"text-align: right;\">\n",
       "      <th></th>\n",
       "      <th>Estimate</th>\n",
       "      <th>Std. Error</th>\n",
       "      <th>z value</th>\n",
       "      <th>Pr(&gt;|z|)</th>\n",
       "    </tr>\n",
       "    <tr>\n",
       "      <th>categories</th>\n",
       "      <th></th>\n",
       "      <th></th>\n",
       "      <th></th>\n",
       "      <th></th>\n",
       "    </tr>\n",
       "  </thead>\n",
       "  <tbody>\n",
       "    <tr>\n",
       "      <th>negative</th>\n",
       "      <td>0.455594</td>\n",
       "      <td>0.027458</td>\n",
       "      <td>16.592507</td>\n",
       "      <td>7.895406e-62</td>\n",
       "    </tr>\n",
       "    <tr>\n",
       "      <th>neutral</th>\n",
       "      <td>0.329418</td>\n",
       "      <td>0.031886</td>\n",
       "      <td>10.331146</td>\n",
       "      <td>5.094808e-25</td>\n",
       "    </tr>\n",
       "    <tr>\n",
       "      <th>offTopic</th>\n",
       "      <td>0.029749</td>\n",
       "      <td>0.013590</td>\n",
       "      <td>2.189030</td>\n",
       "      <td>2.859467e-02</td>\n",
       "    </tr>\n",
       "    <tr>\n",
       "      <th>positive</th>\n",
       "      <td>0.185239</td>\n",
       "      <td>0.033039</td>\n",
       "      <td>5.606743</td>\n",
       "      <td>2.061695e-08</td>\n",
       "    </tr>\n",
       "  </tbody>\n",
       "</table>\n",
       "</div>"
      ],
      "text/plain": [
       "            Estimate  Std. Error    z value      Pr(>|z|)\n",
       "categories                                               \n",
       "negative    0.455594    0.027458  16.592507  7.895406e-62\n",
       "neutral     0.329418    0.031886  10.331146  5.094808e-25\n",
       "offTopic    0.029749    0.013590   2.189030  2.859467e-02\n",
       "positive    0.185239    0.033039   5.606743  2.061695e-08"
      ]
     },
     "execution_count": 42,
     "metadata": {},
     "output_type": "execute_result"
    }
   ],
   "source": [
    "my_isa.best_table"
   ]
  },
  {
   "cell_type": "code",
   "execution_count": 30,
   "metadata": {},
   "outputs": [
    {
     "data": {
      "text/plain": [
       "0         neutral\n",
       "1        positive\n",
       "2        positive\n",
       "3         neutral\n",
       "4        negative\n",
       "5        negative\n",
       "6        negative\n",
       "7        positive\n",
       "8        negative\n",
       "9         neutral\n",
       "10       negative\n",
       "11       negative\n",
       "12       negative\n",
       "13       negative\n",
       "14       positive\n",
       "15       positive\n",
       "16       positive\n",
       "17        neutral\n",
       "18       negative\n",
       "19        neutral\n",
       "20       negative\n",
       "21       negative\n",
       "22       negative\n",
       "23       positive\n",
       "24       negative\n",
       "25        neutral\n",
       "26       positive\n",
       "27        neutral\n",
       "28       positive\n",
       "29        neutral\n",
       "           ...   \n",
       "28711         NaN\n",
       "28712         NaN\n",
       "28713         NaN\n",
       "28714         NaN\n",
       "28715         NaN\n",
       "28716         NaN\n",
       "28717         NaN\n",
       "28718         NaN\n",
       "28719         NaN\n",
       "28720         NaN\n",
       "28721         NaN\n",
       "28722         NaN\n",
       "28723         NaN\n",
       "28724         NaN\n",
       "28725         NaN\n",
       "28726         NaN\n",
       "28727         NaN\n",
       "28728         NaN\n",
       "28729         NaN\n",
       "28730         NaN\n",
       "28731         NaN\n",
       "28732         NaN\n",
       "28733         NaN\n",
       "28734         NaN\n",
       "28735         NaN\n",
       "28736         NaN\n",
       "28737         NaN\n",
       "28738         NaN\n",
       "28739         NaN\n",
       "28740         NaN\n",
       "Name: Sentiment, Length: 28741, dtype: object"
      ]
     },
     "execution_count": 30,
     "metadata": {},
     "output_type": "execute_result"
    }
   ],
   "source": [
    "y"
   ]
  },
  {
   "cell_type": "code",
   "execution_count": 43,
   "metadata": {},
   "outputs": [],
   "source": [
    "the_X = make_dtm_from_texts(trump_data['text'])"
   ]
  },
  {
   "cell_type": "code",
   "execution_count": 44,
   "metadata": {},
   "outputs": [
    {
     "data": {
      "text/plain": [
       "(28741, 368)"
      ]
     },
     "execution_count": 44,
     "metadata": {},
     "output_type": "execute_result"
    }
   ],
   "source": [
    "the_X.shape"
   ]
  },
  {
   "cell_type": "code",
   "execution_count": null,
   "metadata": {},
   "outputs": [],
   "source": []
  }
 ],
 "metadata": {
  "kernelspec": {
   "display_name": "Python 3",
   "language": "python",
   "name": "python3"
  },
  "language_info": {
   "codemirror_mode": {
    "name": "ipython",
    "version": 3
   },
   "file_extension": ".py",
   "mimetype": "text/x-python",
   "name": "python",
   "nbconvert_exporter": "python",
   "pygments_lexer": "ipython3",
   "version": "3.6.1"
  }
 },
 "nbformat": 4,
 "nbformat_minor": 2
}
